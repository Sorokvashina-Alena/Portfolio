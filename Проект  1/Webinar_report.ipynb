{
  "metadata": {
    "kernelspec": {
      "name": "xpython",
      "display_name": "Python 3.13 (XPython)",
      "language": "python"
    },
    "language_info": {
      "file_extension": ".py",
      "mimetype": "text/x-python",
      "name": "python",
      "version": "3.13.1"
    }
  },
  "nbformat_minor": 5,
  "nbformat": 4,
  "cells": [
    {
      "id": "8bf59238-a76c-46b7-9409-f1905c50e84d",
      "cell_type": "code",
      "source": "# Аналитика поведенческой воронки вебинара\nАналитик: [Сороквашина Алена]  \nДата: [25.06.2025]\n\n### 📌 Цель исследования\n\nПроанализировать воронку вебинара для селлеров маркетплейсов, выявить причины низкой конверсии и предложить улучшения.\n\n🚩 Основные этапы воронки:\n- Пользователь зашел в Telegram-бота\n- Подключился к вебинару\n- Отключился от вебинара\n- Оставил заявку на продукт\n",
      "metadata": {
        "trusted": true
      },
      "outputs": [
        {
          "ename": "<class 'SyntaxError'>",
          "evalue": "invalid character '🚩' (U+1F6A9) (3211275128.py, line 9)",
          "traceback": [
            "  \u001b[36mCell\u001b[39m\u001b[36m \u001b[39m\u001b[32mIn[1]\u001b[39m\u001b[32m, line 9\u001b[39m\n\u001b[31m    \u001b[39m\u001b[31m🚩 Основные этапы воронки:\u001b[39m\n    ^\n\u001b[31mSyntaxError\u001b[39m\u001b[31m:\u001b[39m invalid character '🚩' (U+1F6A9)\n"
          ],
          "output_type": "error"
        }
      ],
      "execution_count": 1
    },
    {
      "id": "78eb1c2d-9e54-4dec-ad35-70de7a85fc4f",
      "cell_type": "code",
      "source": "# 📌 Основные результаты (TL;DR)\n\n- Всего пользователей: **1000**\n- До вебинара дошли: **38.2%**\n- Общая конверсия в заявку: **4.7%**\n- ⭐️ Конверсия достигает **11.1%** в группе участников с участием **40–50 минут**\n- 📉 До 40-й минуты уходит около **65%** пользователей\n- 🔁 Повторные подключения повышают конверсию в **2.6 раза**\n- 🧩 Гипотеза: оффер озвучен поздно (около 40-й минуты), большинство не доживает",
      "metadata": {
        "trusted": true
      },
      "outputs": [],
      "execution_count": null
    },
    {
      "id": "9cbe07a2-b21d-45e7-a23f-464d8b753dcf",
      "cell_type": "code",
      "source": "🔷 2. Импорт библиотек и палитра",
      "metadata": {
        "trusted": true
      },
      "outputs": [],
      "execution_count": null
    },
    {
      "id": "a8b8aa23-09c1-45af-a224-cfa3292284d9",
      "cell_type": "code",
      "source": "import pandas as pd\nimport numpy as np\nimport matplotlib.pyplot as plt\nimport seaborn as sns\n\n# ====== ПАЛИТРА ======\npalette_custom = [\"#dad7cd\", \"#a3b18a\", \"#588157\", \"#3a5a40\", \"#344e41\"]",
      "metadata": {
        "trusted": true
      },
      "outputs": [],
      "execution_count": null
    },
    {
      "id": "b916dd93-3fe7-4d3c-96c9-deaa418ff8ff",
      "cell_type": "code",
      "source": "🔷 3. Загрузка данных",
      "metadata": {
        "trusted": true
      },
      "outputs": [],
      "execution_count": null
    },
    {
      "id": "86268cc8-77c8-4e59-a058-3a2d88f525fe",
      "cell_type": "code",
      "source": "# ===== ЗАГРУЗКА ДАННЫХ =====\ndf = pd.read_csv(\"webinar_user_events.csv\", sep=\";\")\ndf['created_at'] = pd.to_datetime(df['created_at'], format=\"%d.%m.%Y %H:%M\")",
      "metadata": {
        "trusted": true
      },
      "outputs": [],
      "execution_count": null
    },
    {
      "id": "0b89bbb5-b569-492f-8780-f7d9b62fb12b",
      "cell_type": "code",
      "source": "🔷 4. Анализ основной воронки",
      "metadata": {
        "trusted": true
      },
      "outputs": [],
      "execution_count": null
    },
    {
      "id": "935667e6-e155-4cb2-a3e6-c57af914aef2",
      "cell_type": "code",
      "source": "# ===== ВОРОНКА =====\ntotal_users = df['user_id'].nunique()\nentered_bot = df[df['action'] == 'enter_bot']['user_id'].nunique()\nentered_webinar = df[df['action'] == 'enter_webinar_room']['user_id'].nunique()\nmade_order = df[df['action'] == 'make_order']['user_id'].nunique()\n\nprint(\"==== ВОРОНКА ====\")\nprint(f\"Всего пользователей: {total_users}\")\nprint(f\"Зашли в бота: {entered_bot} ({entered_bot / total_users:.1%})\")\nprint(f\"Подключились к вебинару: {entered_webinar} ({entered_webinar / entered_bot:.1%})\")\nprint(f\"Оставили заявку: {made_order} ({made_order / entered_webinar:.1%})\")",
      "metadata": {
        "trusted": true
      },
      "outputs": [],
      "execution_count": null
    },
    {
      "id": "a37e2075-d6cd-4ced-bb33-3aeb1e787a85",
      "cell_type": "code",
      "source": "# ===== ВИЗУАЛИЗАЦИЯ ВОРОНКИ =====\nstages = ['Вошли в бота', 'Подключились', 'Оставили заявку']\nvalues = [entered_bot, entered_webinar, made_order]\nconversion = [100, entered_webinar / entered_bot * 100, made_order / entered_webinar * 100]\n\nplt.figure(figsize=(8, 5))\nsns.barplot(x=stages, y=conversion, palette=palette_custom[:3])\nplt.title('Конверсия по этапам воронки')\nplt.ylabel('Конверсия (%)')\nfor i, val in enumerate(values):\n    plt.text(i, conversion[i] / 2, f'n={val}', ha='center', color='black', weight='bold')\nplt.tight_layout()\nplt.show()",
      "metadata": {
        "trusted": true
      },
      "outputs": [],
      "execution_count": null
    },
    {
      "id": "152a5756-e221-4b12-9f48-250c63dd6570",
      "cell_type": "code",
      "source": "🔷 5. Подготовка данных по пользователям",
      "metadata": {
        "trusted": true
      },
      "outputs": [],
      "execution_count": null
    },
    {
      "id": "9d4f6fb5-5c29-4cbd-831a-2caee76868b2",
      "cell_type": "code",
      "source": "# ===== ПОДГОТОВКА СЕССИЙ =====\nwebinar_start = df[df['action'] == 'enter_webinar_room']['created_at'].min()\n\nuser_stats = []\nfor user_id in df['user_id'].unique():\n    user_data = df[df['user_id'] == user_id]\n    if {'enter_webinar_room', 'leave_webinar_room'}.issubset(set(user_data['action'])):\n        enter = user_data[user_data['action'] == 'enter_webinar_room']['created_at'].min()\n        leave = user_data[user_data['action'] == 'leave_webinar_room']['created_at'].max()\n        duration = (leave - enter).total_seconds() / 60\n        order = 1 if 'make_order' in user_data['action'].values else 0\n        user_stats.append({\n            'user_id': user_id,\n            'duration_min': duration,\n            'made_order': order\n        })\n\nwebinar_time = pd.DataFrame(user_stats)",
      "metadata": {
        "trusted": true
      },
      "outputs": [],
      "execution_count": null
    },
    {
      "id": "cb511c23-8fcf-45e2-a0c7-d22a5a3b4248",
      "cell_type": "code",
      "source": "🔷 6. Конверсия по длительности участия",
      "metadata": {
        "trusted": true
      },
      "outputs": [],
      "execution_count": null
    },
    {
      "id": "62dabe5d-ba6f-4936-86c5-d505edcff33a",
      "cell_type": "code",
      "source": "# ===== КОНВЕРСИЯ ПО ДЛИТЕЛЬНОСТИ =====\nbins = [0, 5, 10, 15, 20, 25, 30, 35, 40, 50, 60, 90]\nlabels = [\"0–5\", \"5–10\", \"10–15\", \"15–20\", \"20–25\", \"25–30\",\n          \"30–35\", \"35–40\", \"40–50\", \"50–60\", \"60–90\"]\n\nwebinar_time['duration_group'] = pd.cut(webinar_time['duration_min'], bins=bins, labels=labels, right=False)\ngrouped = webinar_time.groupby('duration_group')['made_order'].agg(['count', 'sum'])\ngrouped['conversion (%)'] = (grouped['sum'] / grouped['count'] * 100).round(2)\ngrouped = grouped.rename(columns={'count': 'Users', 'sum': 'Orders'})\n\nprint(\"\\n📊 Конверсия в зависимости от длительности участия:\")\nprint(grouped)",
      "metadata": {
        "trusted": true
      },
      "outputs": [],
      "execution_count": null
    },
    {
      "id": "c9d09513-6964-466b-99bf-6ef78454da6b",
      "cell_type": "code",
      "source": "from matplotlib.colors import LinearSegmentedColormap\n\n# Градиент по значениям конверсии — от min к max\ncolorscale = LinearSegmentedColormap.from_list(\"custom_green\", palette_custom)\n\nnorm_values = (grouped[\"conversion (%)\"] - grouped[\"conversion (%)\"].min()) / (\n    grouped[\"conversion (%)\"].max() - grouped[\"conversion (%)\"].min()\n)\ncolors = [colorscale(val) for val in norm_values.fillna(0)]  # защита от NaN\n\n# Построение графика\nplt.figure(figsize=(10, 6))\nbars = sns.barplot(x=grouped.index, y=grouped['conversion (%)'], palette=colors)\n\nplt.title('📊 Конверсия в заявку по длительности участия', fontsize=13)\nplt.xlabel('Длительность участия (мин.)')\nplt.ylabel('Конверсия (%)')\n\n# Подписи\nfor i, v in enumerate(grouped['conversion (%)']):\n    bars.text(i, v + 0.3, f\"{v:.1f}%\", ha='center', fontsize=9)\n\nplt.xticks(rotation=30)\nplt.tight_layout()\nplt.show()",
      "metadata": {
        "trusted": true
      },
      "outputs": [],
      "execution_count": null
    },
    {
      "id": "4d3db79f-06b0-497e-b789-d5c2b3021f79",
      "cell_type": "code",
      "source": "🔷 7. Сегментация по поведению",
      "metadata": {
        "trusted": true
      },
      "outputs": [],
      "execution_count": null
    },
    {
      "id": "c4704c9d-b68d-4dd5-b193-dacf6af8c6a5",
      "cell_type": "code",
      "source": "# ===== СЕГМЕНТАЦИЯ ПО ПОВЕДЕНИЮ =====\ndef behavior_segment(row):\n    if row['duration_min'] < 5:\n        return 'Отошёл сразу (<5 мин)'\n    elif row['duration_min'] < 30:\n        return 'Ушёл до оффера (<30 мин)'\n    elif row['duration_min'] >= 40:\n        return 'Досидел до конца (40+ мин)'\n    else:\n        return 'Средняя вовлечённость (30–40 мин)'\n\nwebinar_time['segment'] = webinar_time.apply(behavior_segment, axis=1)\n\nbehavior_summary = webinar_time.groupby('segment').agg(\n    Users=('user_id', 'count'),\n    Orders=('made_order', 'sum')\n).sort_values(by='Users', ascending=False)\n\nbehavior_summary['conversion (%)'] = (behavior_summary['Orders'] / behavior_summary['Users'] * 100).round(2)\nbehavior_summary['percent_of_total'] = (behavior_summary['Users'] / webinar_time.shape[0] * 100).round(1)\n\nprint(\"\\n📊 Сегментация по активности пользователей:\\n\")\nprint(behavior_summary)",
      "metadata": {
        "trusted": true
      },
      "outputs": [],
      "execution_count": null
    },
    {
      "id": "4c7dec32-da80-4adb-b2e1-c8497a4b7f1c",
      "cell_type": "code",
      "source": "plt.figure(figsize=(10, 6))\nsns.barplot(x=behavior_summary.index, y=behavior_summary['Users'], palette=palette_custom)\nplt.title('Сегментация пользователей по поведению')\nplt.ylabel('Количество пользователей')\nplt.xticks(rotation=20)\nplt.tight_layout()\nplt.show()",
      "metadata": {
        "trusted": true
      },
      "outputs": [],
      "execution_count": null
    },
    {
      "id": "31ecb35a-a100-4fb7-956f-a652dcdd0074",
      "cell_type": "code",
      "source": "🔷 8. Повторные подключения",
      "metadata": {
        "trusted": true
      },
      "outputs": [],
      "execution_count": null
    },
    {
      "id": "6e412bf4-b78e-43da-a5d5-416673f17f9d",
      "cell_type": "code",
      "source": "# ===== ПОВТОРНЫЕ ПОДКЛЮЧЕНИЯ =====\nenter_counts = df[df['action'] == 'enter_webinar_room'].groupby('user_id').size().reset_index(name='enter_count')\nwebinar_time = webinar_time.merge(enter_counts, on='user_id', how='left')\nwebinar_time['multi_attempt'] = webinar_time['enter_count'] > 1\n\nmulti_summary = webinar_time.groupby('multi_attempt').agg(\n    Users=('user_id', 'count'),\n    Orders=('made_order', 'sum')\n).reset_index()\nmulti_summary['conversion (%)'] = (multi_summary['Orders'] / multi_summary['Users'] * 100).round(2)\nmulti_summary['group_label'] = multi_summary['multi_attempt'].map({\n    True: 'Многократные подключения',\n    False: 'Однократные подключения'\n})\n\nprint(\"\\n🔁 Анализ по количеству подключений:\\n\")\nprint(multi_summary[['group_label', 'Users', 'conversion (%)']].rename(columns={'group_label': 'Тип подключения'}))",
      "metadata": {
        "trusted": true
      },
      "outputs": [],
      "execution_count": null
    },
    {
      "id": "971ca173-422c-461e-b78a-818cddfd5a35",
      "cell_type": "code",
      "source": "plt.figure(figsize=(8, 5))\nsns.barplot(data=multi_summary, x='group_label', y='conversion (%)', palette=palette_custom[:2])\nplt.title('Конверсия в зависимости от количества подключений')\nplt.xlabel('Тип подключения')\nplt.ylabel('Конверсия (%)')\nfor i, val in enumerate(multi_summary['conversion (%)']):\n    plt.text(i, val + 0.5, f\"{val:.1f}%\", ha='center', fontsize=11)\nplt.tight_layout()\nplt.show()",
      "metadata": {
        "trusted": true
      },
      "outputs": [],
      "execution_count": null
    },
    {
      "id": "8e668270-17f8-4fd0-a812-f280ddc02732",
      "cell_type": "code",
      "source": "🔷 9. Retention и заявки после 40 мин",
      "metadata": {
        "trusted": true
      },
      "outputs": [],
      "execution_count": null
    },
    {
      "id": "1c1eba79-9111-4570-9c80-c5b2ca1b205d",
      "cell_type": "code",
      "source": "# ===== ДОПОЛНИТЕЛЬНЫЕ МЕТРИКИ: Retention и заявки после 40-й минуты =====\nfiltered_webinar_time = webinar_time[webinar_time['duration_min'] <= 120].copy()\n\n# RETENTION CURVE\nretention_curve = {}\nfor minute in range(0, 121):\n    remained = (filtered_webinar_time['duration_min'] >= minute).sum()\n    retention_curve[minute] = remained\n\nretention_df = pd.DataFrame.from_dict(retention_curve, orient=\"index\", columns=[\"remained\"])\nretention_df['retention_%'] = retention_df['remained'] / retention_df['remained'].iloc[0] * 100\nretention_df['dropoff_%'] = 100 - retention_df['retention_%']\nretention_df.index.name = 'minute'\n\ndropoff_40 = retention_df.loc[40, 'dropoff_%']",
      "metadata": {
        "trusted": true
      },
      "outputs": [],
      "execution_count": null
    },
    {
      "id": "0504b8ed-d208-42b4-b155-1ef9b29e3eef",
      "cell_type": "code",
      "source": "plt.figure(figsize=(10, 5))\nplt.plot(retention_df.index, retention_df['dropoff_%'], color=palette_custom[3], label='Отток (%)')\nplt.axvline(40, color=palette_custom[4], linestyle='--', label='40 мин – оффер')\nplt.title('Кумулятивный отток аудитории (до 120 мин)')\nplt.xlabel('Минуты участия')\nplt.ylabel('Процент ушедших пользователей (%)')\nplt.xlim(0, 120)\nplt.ylim(0, 100)\nplt.legend()\nplt.grid(alpha=0.3)\nplt.tight_layout()\nplt.show()",
      "metadata": {
        "trusted": true
      },
      "outputs": [],
      "execution_count": null
    },
    {
      "id": "336d46c3-f165-4e88-86db-ea9bbcde3dfd",
      "cell_type": "code",
      "source": "# Заявки после 40-й\norders_after_40 = webinar_time[webinar_time['duration_min'] >= 40]['made_order'].sum()\ntotal_orders = webinar_time['made_order'].sum()\nshare_after_40 = orders_after_40 / total_orders * 100 if total_orders > 0 else 0\n\n# ===== ПЕРЕМЕННЫЕ ДЛЯ ВЫВОДА =====\nseg_ended = behavior_summary.loc['Досидел до конца (40+ мин)']\nseg_left_early = behavior_summary.loc['Ушёл до оффера (<30 мин)']\nmulti_yes = multi_summary[multi_summary['multi_attempt'] == True].iloc[0]\nmulti_no = multi_summary[multi_summary['multi_attempt'] == False].iloc[0]",
      "metadata": {
        "trusted": true
      },
      "outputs": [],
      "execution_count": null
    },
    {
      "id": "a035a4b6-5f6f-4f4c-8508-94bbaa34e0ce",
      "cell_type": "code",
      "source": "🔷 10. Выводы и рекомендации",
      "metadata": {
        "trusted": true
      },
      "outputs": [],
      "execution_count": null
    },
    {
      "id": "519d212b-95e2-44c4-8c6c-380a01a9f79c",
      "cell_type": "code",
      "source": "# ===== ВЫВОДЫ =====\nprint(\"\\n=== ВЫВОДЫ ===\\n\")\n\nprint(f\"\"\"\n📌 📈 Сегмент «Досидел до конца (40+ мин)»:\n   • Размер: {seg_ended['percent_of_total']}% аудитории\n   • Конверсия: {seg_ended['conversion (%)']}%\n\n📌 ⏱ Сегмент «Ушёл до 30-й минуты»:\n   • Размер: {seg_left_early['percent_of_total']}%\n   • Конверсия: {seg_left_early['conversion (%)']}%\n\n📌 🔁 Повторные подключения:\n   • Однократные: {multi_no['Users']} — конверсия {multi_no['conversion (%)']}%\n   • Многократные: {multi_yes['Users']} — конверсия {multi_yes['conversion (%)']}% (в ~{round(multi_yes['conversion (%)'] / max(multi_no['conversion (%)'],1), 1)} раза выше)\n\n📉 К 40-й минуте уходит ≈ {dropoff_40:.1f}% пользователей\n📊 Из всех заявок: {orders_after_40} из {total_orders} (≈{share_after_40:.1f}%) пришлись на период после 40-й минуты\n\"\"\")",
      "metadata": {
        "trusted": true
      },
      "outputs": [],
      "execution_count": null
    },
    {
      "id": "ea859557-46f2-45b0-9471-e70ebc958cbd",
      "cell_type": "code",
      "source": "print(\"\\n=== ГИПОТЕЗЫ И РЕКОМЕНДАЦИИ ===\\n\")\n\nprint(f\"\"\"\n🧩 Гипотезы:\n▶ На 40-й минуте находится оффер — рост заявок после этой точки это подтверждает.\n▶ Однако ~{dropoff_40:.1f}% пользователей уходят раньше — не слышат о предложении.\n▶ Повторные подключения — индикатор интереса, конверсия в 2–3 раза выше обычной.\n\n💡 Рекомендации:\n• Озвучить «тизер оффера» уже на 15–20 минуте.\n• Повторить ключевые преимущества на 25–30 минуте.\n• Досидевшим 30+ мин предложить бонус.\n• Повторников — отловить и обработать отдельно.\n• Ушедших до 10-й — ретаргетить повторной воронкой через TG/email.\n\"\"\")",
      "metadata": {
        "trusted": true
      },
      "outputs": [],
      "execution_count": null
    }
  ]
}